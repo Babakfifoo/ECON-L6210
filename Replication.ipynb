{
 "cells": [
  {
   "cell_type": "markdown",
   "metadata": {},
   "source": [
    "# Replication assignment | ECON-L6210 - Structural econometrics 2023\n",
    "*Helena Rantakaulio, Hung Le, Babak Firoozi Fooladi*\n",
    "\n",
    "‘The Welfare Effects of Dynamic Pricing: Evidence From Airline Markets’\n",
    "\n",
    "___\n",
    "\n",
    "## introduction\n",
    "\n",
    "In this notebook, we attempt to replicate the results of [1] in Julia. The original replication package could be found at https://github.com/kw468/welfare-airlines .\n",
    "Authors scripts are written in Python, and estimations are done using Knitro propriety package. We used Julia programming language to replicate the welfare estimation for the airline routes. \n",
    "Original packages contains several scripts for data preparation, plots, tables robustness checks and bash scripts for automation and execution. Our aim only requires replication of following scrips in the original repository:\n",
    "\n",
    "| Usage                                                                                                                      | Script                                               |\n",
    "|----------------------------------------------------------------------------------------------------------------------------|------------------------------------------------------|\n",
    "| Data preparation                                                                                                           | scripts/estimation/estim_model_jax_multiFE_EF_sms.py |\n",
    "| Likelihood function - demand calculation - expected return - expected value - transition matrix - dynamic estimation - CCP | scripts/setup/estimation_setup.py                    |\n",
    "\n",
    "\n",
    "\n",
    "\n",
    "[1] K. R. Williams, ‘The Welfare Effects of Dynamic Pricing: Evidence From Airline Markets’, ECTA, vol. 90, no. 2, pp. 831–858, 2022, doi: 10.3982/ECTA16180.\n"
   ]
  },
  {
   "cell_type": "markdown",
   "metadata": {},
   "source": [
    "## Replication functions"
   ]
  },
  {
   "cell_type": "markdown",
   "metadata": {},
   "source": [
    "### Required packages"
   ]
  },
  {
   "cell_type": "code",
   "execution_count": 1,
   "metadata": {},
   "outputs": [],
   "source": [
    "using DataFrames, JuMP\n",
    "using Statistics, Clustering, StatsBase, SpecialFunctions\n",
    "using Query, FreqTables\n",
    "using ShiftedArrays\n",
    "using Dates, Missings, Random\n",
    "import Parquet2, CSV\n",
    "using Optim # for BFGS -> KN_HESSOPT_BFGS\n",
    "using MKL # Using Julia with Intel's MKL -> KN_BLASOPTION_INTEL\n",
    "using NLopt # Non-Linear Optimization package"
   ]
  },
  {
   "cell_type": "markdown",
   "metadata": {},
   "source": [
    "### Probability of type Business buyer\n",
    "\n",
    "Parameters $\\gamma_0$, $\\gamma_1$, and $\\gamma_2$, are estimated. Parameter $T$ is set to 60 days"
   ]
  },
  {
   "cell_type": "markdown",
   "metadata": {},
   "source": [
    "$$Pr_{t}(\\text{Business}) =  \\gamma_{t}=\\frac{\\exp{(\\gamma_{0} + \\gamma_{1} t+\\gamma_{2} t^{2}})}{1+\\exp{(\\gamma_{0}+ \\gamma_{1} t+ \\gamma_{2} t^{2})}} = \\frac{1}{1+\\exp{(-\\gamma_{0} - \\gamma_{1} t - \\gamma_{2} t^{2})}}$$"
   ]
  },
  {
   "cell_type": "code",
   "execution_count": 2,
   "metadata": {},
   "outputs": [
    {
     "data": {
      "text/plain": [
       "PR_B (generic function with 1 method)"
      ]
     },
     "metadata": {},
     "output_type": "display_data"
    }
   ],
   "source": [
    "PR_B(γ_0, γ_1,γ_2, T) = 1 ./ (exp.(-γ_0 .- (0:(T-1)) .* γ_1 .- ((0:(T-1)) .^ 2) .* γ_2) .+ 1)"
   ]
  },
  {
   "cell_type": "markdown",
   "metadata": {},
   "source": [
    "This function is this formula:\n",
    "$$\n",
    "\\pi_{j t}^{i}(p_{j t})=\\frac{\\exp(x_{j t}\\beta_{i}-\\alpha_{i}p_{j t})}{1+\\exp(x_{j t}\\beta_{i}-\\alpha_{i}p_{j t})} = \\frac{1}{1-\\exp(- x_{j t}\\beta_{i} + \\alpha_{i}p_{j t})}\n",
    "$$\n",
    " \n",
    "\n",
    "$$\n",
    "\\pi_{j t}(p_{j t})= \\gamma_{t}\\,\\pi_{j t}^{B}({\\mathcal{P}}_{j t})+\\left(1 - \\gamma_{t}\\right)\\pi_{j t}^{L}({\\mathcal{P}}_{j t})\n",
    "$$\n",
    "\n",
    "After calculating $\\pi_{j t}(p_{j t})$, we proceed with demand probability:\n",
    "$$\n",
    "\\underset{t} {Pr_{t}}(Q_{j t} = q; P_{j t}) = \\frac{\\left(\\mu_{t} \\pi_{j t} \\right)^{q} \\exp \\left(-\\mu_{t} \\pi_{j t}\\right)}{q!} q\n",
    "$$\n",
    "\n",
    "$$\n",
    "\\log\\bigg(\\underset{t} {Pr_{t}}(Q_{j t} = q; P_{j t})\\bigg) = q \\log\\left(\\mu_{t} \\pi_{j t} \\right) -  \\left(\\mu_{t} \\pi_{j t}\\right) - q! - q\n",
    "$$\n"
   ]
  },
  {
   "cell_type": "code",
   "execution_count": 3,
   "metadata": {},
   "outputs": [],
   "source": [
    "function log_demandQ_tγ(β, bL, bB, γt, μt, q, Pt)\n",
    "    \"\"\" The log\n",
    "        input:\n",
    "            γt: Consumer type prob at time t 1x1\n",
    "            μt: mean demand at time t 7x1\n",
    "            q : seat count 1x1\n",
    "            β : demand parameters 7x1\n",
    "            bL: Leisure demand parameters 1x1\n",
    "            bB: Business demand parameters 1x1\n",
    "\n",
    "        output: \n",
    "            log of demand probability matrix 8x7\n",
    "    \"\"\"\n",
    "    #* Product share:\n",
    "\n",
    "    # Probability of Leisure booking on time t\n",
    "    πL_t = (1 .-γt) ./(1 .+ exp.(-β' .- bL .* Pt))\n",
    "    # Probability of Business booking on time t\n",
    "    πB_t = (γt) ./(1 .+ exp.(-β' .- bB .* Pt))\n",
    "\n",
    "    π_t = πL_t .+ πB_t\n",
    "    # --------------------------------------------------------------------------\n",
    "\n",
    "    #* Log of Demand probability:\n",
    "\n",
    "    # demand calculation for time t, seat count q\n",
    "    Q_jt = q .* (log.(π_t) .+ log.(μt)') .- (π_t'.*μt)'  .- loggamma(q+1)\n",
    "\n",
    "    return Q_jt\n",
    "end\n",
    "\n",
    "#* Demand probability:\n",
    "# for Q == q at time t\n",
    "demandQ_tγ(β, bL, bB, γt, μt, q, Pt) = exp.(log_demandQ_tγ(β, bL, bB, γt, μt, q, Pt))\n",
    "\n",
    "# The demand for all T for Δq is calculated given the parameters \n",
    "Demand_q_T(β, bL, bB, γ, μ, Δq, Pt) = [demandQ_tγ(β, bL, bB, γt, μ[t,:], Δq, Pt) for (t,γt) in enumerate(γ)];"
   ]
  },
  {
   "cell_type": "markdown",
   "metadata": {},
   "source": [
    "### Capacity Transition matrix $f(\\cdot)$\n",
    "\n",
    "This matrix is used to obtain the transition probabilities values:\n",
    "$$\n",
    "h_{t} (\\omega_{t+1}, c_{t+1} | \\omega_{t}, c_{t}, p_{t}) = g(\\omega_{t+1}) f_{t} (c_{t+1} | p_{t}, c_{t})\n",
    "$$\n",
    "\n",
    "And it is using the demand function in previous blocks.\n",
    "\n",
    "Generation of this matrix eliminated the need for repetitive calculation of the probabilities.\n",
    "Moreover, this matrix is later used to expected revenue and expected future value function.\n",
    "\n"
   ]
  },
  {
   "cell_type": "code",
   "execution_count": 4,
   "metadata": {},
   "outputs": [
    {
     "data": {
      "text/plain": [
       "create_Expected_R (generic function with 1 method)"
      ]
     },
     "metadata": {},
     "output_type": "display_data"
    }
   ],
   "source": [
    "function create_f_mat(β, bL, bB, γ, μ, q̄, Pt)\n",
    "    \"\"\"\n",
    "    input:\n",
    "        T: Max number of days before departure\n",
    "        t: time ∈ {,1,...,T}\n",
    "        q̄: maximum seat count\n",
    "        Δq: change in seats ∈ {0,1,..., q̄}\n",
    "        Pt: clustered prices\n",
    "        γ: probability of type Business\n",
    "        μ[t,:] : Arrival rates (to be estimated)\n",
    "        bL: Leisure demand parameter (to be estimated)\n",
    "        bB: Business demand parameter (to be estimated)\n",
    "        β : demand parameters (to be estimated)\n",
    "    output:\n",
    "        f: transition matrix \n",
    "    \"\"\"\n",
    "    Prob_sellout = []\n",
    "    for Δq in 0:(q̄)\n",
    "        # demand matrix is used here:\n",
    "        temp = Demand_q_T(β, bL, bB, γ, μ, Δq, Pt) .|>\n",
    "            x -> x .|>\n",
    "            y -> ifelse.((y < 1e-100) & (y != 0), 1e-100, y) \n",
    "            \n",
    "        push!(Prob_sellout, temp)\n",
    "    end\n",
    "\n",
    "    zero_PT_β = zeros(length(Pt),length(β))\n",
    "    f = [[[zero_PT_β for i in 1:T] for _ in 1:(q̄+1)]]\n",
    "    for Δq in 1:(q̄)\n",
    "        temp = deepcopy(Prob_sellout[1:Δq])\n",
    "        push!(temp, sum(temp[1:Δq]) .|> x -> 1 .- x)\n",
    "        for q in 1:(q̄-Δq)\n",
    "            push!(temp, [zero_PT_β for i in 1:T])\n",
    "        end\n",
    "        push!(f,temp)\n",
    "    end\n",
    "\n",
    "    return f\n",
    "end\n",
    "\n"
   ]
  },
  {
   "cell_type": "markdown",
   "metadata": {},
   "source": [
    "#### Expected Revenue\n",
    "\n",
    "We proceed with creating expected revenues matrix for each price at every time $P_{t}$ for remaining seats $c_{t}$.\n",
    "$$\n",
    "R^{e}_{t}(P_{t};c_{t}) = p_{t} \\cdot Q^{e}_{t}(P_{t};c_{t})\n",
    "$$\n",
    "\n",
    "Where $Q^{e}_{t}(P_{t};c_{t})$ is function in previous blocks."
   ]
  },
  {
   "cell_type": "code",
   "execution_count": null,
   "metadata": {},
   "outputs": [],
   "source": [
    "function create_Expected_R(f, q̄, Pt)\n",
    "    \"\"\"\n",
    "    input:\n",
    "        f: transition matrix \n",
    "        q̄: maximum seat count\n",
    "        Pt: clustered prices\n",
    "    output:\n",
    "        ER: Expected revenue matrix\n",
    "    \"\"\"\n",
    "    Pt_T = ((0:(q̄+1)) .* Pt')\n",
    "    ER = [sum([f[q1][q] .|> x ->  x .* Pt_T[q,:] for q in 1:q1]) for q1 in 1:(q̄+1)];\n",
    "    return ER\n",
    "end"
   ]
  },
  {
   "cell_type": "markdown",
   "metadata": {},
   "source": [
    "### Expected Value\n",
    "\n",
    "The function for expected value is:\n",
    "$$\\mathrm{EV}_{t}(p_{t},c_{t})=\\int_{c_{t+1}}\\Biggl[\\sigma\\ln\\Biggl(\\sum_{p_{t+1}\\epsilon\\lambda(t+1)}\\exp\\Biggl(\\frac{R_{t+1}^{e}(c_{t+1},\\,P_{t+1})+\\mathrm{EV}_{t+1}(p_{t+1},c_{t+1})}{\\sigma}\\Biggr)\\Biggr)\\Biggr] \\times\\,f_{t}(c_{t+1}|c_{t},\\,p_{t})+\\,\\sigma\\phi,$$\n",
    "\n",
    "To calculate this dynamic process, the code puts the value for the day after departure as zero. Therefore we can calculate the values from time $t = T$ (the time of departure = 60) recursively to $t = 0$.\n",
    "\n",
    "\n"
   ]
  },
  {
   "cell_type": "code",
   "execution_count": 5,
   "metadata": {},
   "outputs": [
    {
     "data": {
      "text/plain": [
       "dynEst (generic function with 1 method)"
      ]
     },
     "metadata": {},
     "output_type": "display_data"
    }
   ],
   "source": [
    "# Helping functions for DRY:\n",
    "gpr_qt(ER, EV, Pt_m, t, σ) = ((ER + EV) ./ σ) .* Pt_m[t, 2:end]\n",
    "V_T(grp_q, EC, σ) = σ * (log.(sum(exp.(grp_q), dims=1)) .+ EC)\n",
    "inf_to_zero(x) = ifelse.(x .== -Inf, 0, x);\n",
    "\n",
    "\n",
    "# Dynamic demand estimation\n",
    "function dynEst(f, ER , σ, T, Pt_m ,q̄, β)\n",
    "\n",
    "    # generating the EV at t = T, where EV(T+1) = 0\n",
    "    EV = Dict()\n",
    "    V = Dict()\n",
    "    CCP = Dict()\n",
    "    t = T\n",
    "    grp = []\n",
    "    EC = 0.5772156649 # Euler constant\n",
    "    EV[t + 1] = [zeros(length(Pt),7) for i in 1:(q̄+1)]\n",
    "\n",
    "    for q in 1:(q̄+1)\n",
    "        push!(grp, gpr_qt(ER[q][T], EV[T+1][q] , Pt_m, t, σ))\n",
    "    end\n",
    "\n",
    "    grp = grp .|> x -> ifelse.(x .== 0, -Inf, x);\n",
    "    V[t] = V_T.(grp, EC, σ);\n",
    "    CCP[t] = grp .|> x -> x .- log.(sum(exp.(x), dims=1));\n",
    "    replace!.(CCP[t],NaN => 0.0)\n",
    "    \n",
    "\n",
    "    # Recursion for t = T,...,1\n",
    "    for t in (T):-1:2\n",
    "        grp = []\n",
    "        for q in 1:(q̄+1)\n",
    "            push!(grp, gpr_qt(ER[q][t], EV[t+1][q] , Pt_m , t, σ))\n",
    "        end\n",
    "        grp = grp .|> x-> ifelse.(x .== 0, -Inf, x);\n",
    "        CCP[t] = grp .|> x -> x .- log.(sum(exp.(x), dims=1));\n",
    "        replace!.(CCP[t],NaN => 0.0)\n",
    "\n",
    "        V[t] = V_T.(grp, EC, σ);\n",
    "\n",
    "        EV[t] = []\n",
    "        for q in 1:(q̄+1)\n",
    "            g_q = f[q] .|> x -> x[t]\n",
    "            V_q = collect(vcat([zeros(1,7)], V[t][1:(length(g_q))]) )\n",
    "        \n",
    "            for q_r in 1:q\n",
    "                push!(EV[t], g_q[q_r] .* V_q[q_r])\n",
    "            end\n",
    "        end\n",
    "        replace!.(CCP[t],-Inf => 0.0)\n",
    "    end\n",
    "    \n",
    "    return CCP\n",
    "end\n",
    "\n"
   ]
  },
  {
   "cell_type": "markdown",
   "metadata": {},
   "source": [
    "# Log-Likelihood Function\n",
    "\n",
    "In following block Log-Likelihood is coded. It calculates the transition matrix, Expected Revenue and Expected Value in itself for dynamic estimation. \n",
    "\n",
    "$$\n",
    "\\underset{(\\beta, \\alpha, \\gamma_{t}, \\mu_{t}, \\sigma)} \\max \\sum_{F} \\sum_{T} \\log \\big(\\text{CCP}_{t} ( p_{t}; c_{t})\\big) + \\log \\big(f_{t}(c_{t+1} | c_{t}, p_{t})  \\big)\n",
    "$$"
   ]
  },
  {
   "cell_type": "code",
   "execution_count": 6,
   "metadata": {},
   "outputs": [
    {
     "data": {
      "text/plain": [
       "logLike (generic function with 1 method)"
      ]
     },
     "metadata": {},
     "output_type": "display_data"
    }
   ],
   "source": [
    "\n",
    "function logLike(X₀, data, T, q̄, Pt)\n",
    "    # Variables specs:\n",
    "    \"\"\"\n",
    "    T: Max number of days before departure\n",
    "    t: time ∈ {,1,...,T}\n",
    "    q̄: maximum seat count\n",
    "    Δq: change in seats ∈ {0,1,..., q̄}\n",
    "    Pt: clustered prices\n",
    "    γ: probability of type Business\n",
    "    μ[t,:] : Arrival rates (to be estimated)\n",
    "    bL: Leisure demand parameter (to be estimated)\n",
    "    bB: Business demand parameter (to be estimated)\n",
    "    β : demand parameters (to be estimated)\n",
    "    \"\"\"\n",
    "\n",
    "    EC =  0.5772156649 # Euler constant\n",
    "    γ = PR_B(X₀[10], X₀[11], X₀[12], T);\n",
    "    μ₁ = X₀[13]\n",
    "    μ₂ = X₀[14]\n",
    "    μ₃ = X₀[15]\n",
    "    μ₄ = X₀[16]\n",
    "\n",
    "    μT = [μ₁ .* ones(T - 20); μ₂ .* ones(7); μ₃ .* ones(7); μ₄ .* ones(6)]\n",
    "    μ_DoW = [1; X₀[17:22]]\n",
    "\n",
    "    μ = μT * μ_DoW';\n",
    "\n",
    "    β = X₀[1:7]\n",
    "    bL = min(X₀[8], X₀[9])\n",
    "    bB = max(X₀[8], X₀[9])\n",
    "\n",
    "    σ = X₀[end];\n",
    "\n",
    "    EC = 0.5772156649 # Euler constant\n",
    "    β = X₀[1:7]\n",
    "    \n",
    "    f = create_f_mat(β, bL, bB, γ, μ, q̄, Pt)\n",
    "    ER0 = create_Expected_R(f, q̄, Pt)\n",
    "    \n",
    "    loss0 = []\n",
    "    for x in 1:size(data)[1]\n",
    "        push!(loss0, f[data[x,1]][data[x,2]+1][data[x,3]+1][data[x,4] + 1, data[x,5] + 1])\n",
    "    end\n",
    "    loss0 = ifelse.(loss0 .== 0, 1, loss0)\n",
    "    loss0 = log.(loss0);\n",
    "    loss0 = sum(loss0)\n",
    "    CCP0 = dynEst(f, ER0 , σ, T, Pt_m ,q̄, β)\n",
    "    \n",
    "    loss1 = []\n",
    "    for x in 1:size(data)[1]\n",
    "        \n",
    "        push!(loss1, CCP0[data[x,3]+1][data[x,1]+1][data[x,4]+1,data[x,5]+1])\n",
    "        \n",
    "    end\n",
    "\n",
    "    loss1 = sum(loss1)\n",
    "\n",
    "    return loss0 + loss1\n",
    "end\n",
    "\n"
   ]
  },
  {
   "cell_type": "markdown",
   "metadata": {},
   "source": [
    "# Setting up the dataset\n",
    "Because the set of prices $A(t)$, is calculated from the k-means algorithm, we used the original code to produce the prices and use them in our model.\n",
    "\n",
    "Moreover, because of the difference, the observations values in `Pt_m` are different in our model compared to the original estimation. Therefore we use the output of the original replication data. \n",
    "\n",
    "We use `\"BOS_SAN\"` route for the analysis. \n",
    "\n",
    "## Replication data:\n",
    "For other routes script `Generate data.jl` will produce the necessary values. "
   ]
  },
  {
   "cell_type": "code",
   "execution_count": 4,
   "metadata": {},
   "outputs": [],
   "source": [
    "include(\"Scripts/Generate data.jl\") # this script creates the panel for each route\n",
    "\n",
    "bndsLo = [\n",
    "        -10, -10, -10, -10, -10, -10, -10, -10, -10,\n",
    "        -250, -10, -.06, .1, .1, .1, .1,\n",
    "        .01, .01, .01, .01, .01, .01, .02\n",
    "    ];\n",
    "\n",
    "bndsUp = [\n",
    "    15, 15, 15, 15, 15, 15, 15, 0, 0, 40, 10, .15,\n",
    "    15, 15, 15, 15, 15, 15, 15, 15, 15, 15, 2\n",
    "];\n",
    "\n",
    "X₀ = [ # Initial values\n",
    "    2.49999999, 2.49999999, 2.49999999, 2.49999999, 2.49999999, \n",
    "    2.49999999, 2.49999999, -1.05185291, -0.72189149, -13.39650409, \n",
    "    0.27373386, 0.0, 1.91183252, 2.46138227, 1.82139054, 2.35728083, \n",
    "    1.0, 1.0, 1.0, 1.0, 1.0, 1.0, 0.22463165\n",
    "];\n",
    "\n",
    "df = DataFrame(CSV.File(\"data/original_paper/BOS_SAN_data.csv\"));\n",
    "data = convert.(Int,Matrix(df));\n",
    "\n",
    "Pt_m = DataFrame(CSV.File(\"data/original_paper/BOS_SAN_Pt.csv\"));\n",
    "Pt_m = Matrix(Pt_m)\n",
    "\n",
    "Pt = [2.07262418, 2.86435267, 3.38673056, 3.99072046, 4.66267888, 5.55337481, 6.40260199, 7.38572223];\n",
    "\n",
    "T = 60\n",
    "q̄ = maximum(data[:,1])\n",
    "\n",
    "nothing"
   ]
  },
  {
   "cell_type": "markdown",
   "metadata": {},
   "source": [
    "# Optimization:\n",
    "\n",
    "This block uses NLopt.jl for non-linear optimization of the model to estimated the parameters that maximize the likelihood function.\n",
    "\n",
    "**NOTE:** estimation takes way too long. We could not finalize it properly."
   ]
  },
  {
   "cell_type": "code",
   "execution_count": 8,
   "metadata": {},
   "outputs": [],
   "source": [
    "using NLopt\n",
    "opt = Opt(:LD_MMA, 23) # Choose the algorithm and the number of parameters\n",
    "lower_bounds!(opt, bndsLo)\n",
    "upper_bounds!(opt, bndsUp)\n",
    "\n",
    "# Define the objective function\n",
    "max_objective!(opt, (x, grad) -> logLike(x, data[1:100,:], T, q̄, Pt))\n",
    "\n",
    "\n",
    "# Run the optimization\n",
    "(minf,minx,ret) = NLopt.optimize(opt, X₀)"
   ]
  },
  {
   "cell_type": "markdown",
   "metadata": {},
   "source": []
  }
 ],
 "metadata": {
  "kernelspec": {
   "display_name": "Julia 1.9.3",
   "language": "julia",
   "name": "julia-1.9"
  },
  "language_info": {
   "file_extension": ".jl",
   "mimetype": "application/julia",
   "name": "julia",
   "version": "1.9.3"
  }
 },
 "nbformat": 4,
 "nbformat_minor": 2
}
